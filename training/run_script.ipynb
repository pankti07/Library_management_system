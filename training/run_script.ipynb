{
 "cells": [
  {
   "cell_type": "code",
   "execution_count": 1,
   "metadata": {},
   "outputs": [
    {
     "name": "stderr",
     "output_type": "stream",
     "text": [
      "Using TensorFlow backend.\n"
     ]
    }
   ],
   "source": [
    "from keras.callbacks import ModelCheckpoint\n",
    "\n",
    "from RecommendationModel import RecommendationModel\n",
    "from DataPreprocessing import DataPreprocessing"
   ]
  },
  {
   "cell_type": "code",
   "execution_count": 2,
   "metadata": {},
   "outputs": [],
   "source": [
    "dataPreprocessing = DataPreprocessing()\n",
    "\n",
    "#getting training data\n",
    "userIds, movieIds, ratings = dataPreprocessing.load_data()"
   ]
  },
  {
   "cell_type": "code",
   "execution_count": null,
   "metadata": {},
   "outputs": [],
   "source": [
    "#getting emmbeding model with Dense layers\n",
    "rModel = RecommendationModel(dataPreprocessing.max_userId, dataPreprocessing.max_movieId, dataPreprocessing.k_factor)\n",
    "model = rModel.generateModel()"
   ]
  },
  {
   "cell_type": "code",
   "execution_count": null,
   "metadata": {},
   "outputs": [],
   "source": [
    "############## Training part ################\n",
    "print('userIds : ',userIds, ' shape : ',userIds.shape)\n",
    "print('movieIds : ',movieIds, ' shape : ',movieIds.shape)\n",
    "print('ratings : ',ratings, ' shape : ',ratings.shape)\n",
    "print('start training...........')\n",
    "filepath = '/model/weights_best.hdf5'\n",
    "checkPoint = ModelCheckpoint(filepath, monitor='val_acc', verbose=1, save_best_only=True, mode='max')\n",
    "callbacks_lst = [checkPoint]\n",
    "model.fit([userIds, movieIds], ratings, validation_split=0.3, epochs=20, batch_size=128, callbacks=callbacks_lst)"
   ]
  }
 ],
 "metadata": {
  "kernelspec": {
   "display_name": "Python 3",
   "language": "python",
   "name": "python3"
  },
  "language_info": {
   "codemirror_mode": {
    "name": "ipython",
    "version": 3
   },
   "file_extension": ".py",
   "mimetype": "text/x-python",
   "name": "python",
   "nbconvert_exporter": "python",
   "pygments_lexer": "ipython3",
   "version": "3.6.7"
  }
 },
 "nbformat": 4,
 "nbformat_minor": 2
}
